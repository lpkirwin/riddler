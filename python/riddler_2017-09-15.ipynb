{
 "cells": [
  {
   "cell_type": "markdown",
   "metadata": {},
   "source": [
    "# Express"
   ]
  },
  {
   "cell_type": "markdown",
   "metadata": {},
   "source": [
    "Given A and C's (random) positions around the campfire, the laser fired between them divides the remaining campers into two groups:"
   ]
  },
  {
   "cell_type": "markdown",
   "metadata": {},
   "source": [
    "![](https://raw.githubusercontent.com/lpkirwin/riddler/master/campfire.png)"
   ]
  },
  {
   "cell_type": "markdown",
   "metadata": {},
   "source": [
    "In order for the beams *not* to cross, we need both B and D to be in the same group. The probability of this (conditional on the clockwise distance between A and C) is pretty straightforward to calculate."
   ]
  },
  {
   "cell_type": "code",
   "execution_count": 8,
   "metadata": {
    "collapsed": true
   },
   "outputs": [],
   "source": [
    "def cond_prb(dist):\n",
    "    size_left_group = dist - 1\n",
    "    size_right_group = 20 - dist - 1\n",
    "    prb_left_group = (size_left_group / 18) * ((size_left_group - 1) / 17) # both in left\n",
    "    prb_right_group = (size_right_group / 18) * ((size_right_group - 1) / 17) # both in right\n",
    "    return(prb_left_group + prb_right_group) # either"
   ]
  },
  {
   "cell_type": "markdown",
   "metadata": {},
   "source": [
    "Now we have the conditional probability, so we just need to average over all of the 19 positions that C could be in relative to A:"
   ]
  },
  {
   "cell_type": "code",
   "execution_count": 6,
   "metadata": {},
   "outputs": [
    {
     "data": {
      "text/plain": [
       "0.6666666666666665"
      ]
     },
     "execution_count": 6,
     "metadata": {},
     "output_type": "execute_result"
    }
   ],
   "source": [
    "sum(map(cond_prb, range(1,20))) / 19"
   ]
  },
  {
   "cell_type": "markdown",
   "metadata": {},
   "source": [
    "So there is a 2/3 chance of *not* ending the world, and a 1/3 chance of ending it. Could be worse!"
   ]
  },
  {
   "cell_type": "markdown",
   "metadata": {},
   "source": [
    "# Classic"
   ]
  },
  {
   "cell_type": "markdown",
   "metadata": {},
   "source": [
    "This one is tougher and is probably going to test my geometry and probability skills."
   ]
  },
  {
   "cell_type": "markdown",
   "metadata": {
    "collapsed": true
   },
   "source": [
    "## Part 1: two breaks, any triangle"
   ]
  },
  {
   "cell_type": "markdown",
   "metadata": {},
   "source": [
    "Say we have a stick of length one, with positions on the stick indexed by $(0,1)$. For any two random (uniformly-distributed) breaks on the stick, call the one on the left $x$ and the one on the right $y$. Then, if we imagine each break acting like a hinge, we know we can form a triangle if the arcs traced out by the left and right branches intersect, like so:"
   ]
  },
  {
   "cell_type": "markdown",
   "metadata": {},
   "source": [
    "![](https://github.com/lpkirwin/riddler/blob/master/sticks_1.png?raw=true)"
   ]
  },
  {
   "cell_type": "markdown",
   "metadata": {},
   "source": [
    "One thing this diagram makes clear right away is that we need $x$ and $y$ to stay on their respective 'sides' of the line (so we can't have $x > 1/2$ or $y < 1/2$). Otherwise one of the arcs will be too big.\n",
    "\n",
    "I'm going to start by talking about what we need for the position of $y$ relative to $x$, and then talk about the distribution of $x$ itself.\n",
    "\n",
    "**Probability of making a triangle conditional on $x$**\n",
    "\n",
    "We can state the 'intersection' condition w.r.t. the lengths of the branches. First, note that the location of the leftmost point in $y$'s arc is given by $1-2(1-y) = 2y-1$. Then what we need is\n",
    "\n",
    "$$0 < 2y-1 < 2x$$\n",
    "\n",
    "or, equivalently:\n",
    "\n",
    "$$y \\in \\Big( \\frac{1}{2}, \\frac{1}{2} + x \\Big).$$\n",
    "\n",
    "So, given the position of $x$, $y$ needs to be in an area of size $x$. Since $y$ is always to the right of $x$, the total size of the area that it can be in is $1-x$. Since it is (conditionally) uniformly-distributed within this area, the probability of creating a triangle is then given by\n",
    "\n",
    "$$ Pr(\\Delta | x) = \\frac{x}{1-x} \\quad \\textrm{for} \\quad x \\in \\Big( 0, \\frac{1}{2} \\Big) .$$\n",
    "\n",
    "**The distribution of $x$**\n",
    "\n",
    "We're looking for the density function $f$ of a variable $x = \\min(z_1, z_2)$ where $z_1, z_2$ are uniformly-distributed. We can find the CDF first \n",
    "\n",
    "$$F(x) = Pr(p \\leq x) = 1 - Pr(p > x) = 1 - (1-x)^2 $$\n",
    "\n",
    "and then get the PDF by taking the first derivative: $f(x) = 2(1-x)$.\n",
    "\n",
    "**Unconditional probability of making a triangle**\n",
    "\n",
    "$$\\int{Pr(\\Delta | x) \\cdot f(x)} \\; dx = \\int_0^{1/2}{\\frac{x}{1-x} \\cdot 2(1-x)} \\; dx = \\frac{1}{4}$$.\n"
   ]
  },
  {
   "cell_type": "markdown",
   "metadata": {},
   "source": [
    "## Part 2: three sticks, any triangle"
   ]
  },
  {
   "cell_type": "markdown",
   "metadata": {},
   "source": [
    "We have a very similar diagram as before, but now with $a$, $b$, and $c$ denoting sticks each uniformly distributed on $(0,1)$."
   ]
  },
  {
   "cell_type": "markdown",
   "metadata": {},
   "source": [
    "![](https://github.com/lpkirwin/riddler/blob/master/sticks_1.png?raw=true)"
   ]
  },
  {
   "cell_type": "markdown",
   "metadata": {},
   "source": [
    "My intuition here is that we'll be able to form a triangle iff the longest side is no longer than the sum of the two shorter sides. This seems a bit tricky to do analytically so I'm just going to simulate it. I'll create an $n \\times 3$ matrix, sort each row and then test whether each element is smaller than the sum of the other two."
   ]
  },
  {
   "cell_type": "code",
   "execution_count": 83,
   "metadata": {},
   "outputs": [
    {
     "name": "stdout",
     "output_type": "stream",
     "text": [
      "triangle: 0.499937\n"
     ]
    }
   ],
   "source": [
    "import numpy as np\n",
    "np.random.seed(1)\n",
    "n = 1000000\n",
    "\n",
    "sticks = np.random.rand(n,3)\n",
    "\n",
    "for i in range(n):\n",
    "    sticks[i] = np.sort(sticks[i])\n",
    "\n",
    "triangle = list()\n",
    "for row in sticks:\n",
    "    triangle.append(row[0] + row[1] > row[2])\n",
    "\n",
    "print(\"triangle:\", sum(triangle) / len(triangle))"
   ]
  },
  {
   "cell_type": "markdown",
   "metadata": {},
   "source": [
    "I'll take a stab in the dark and guess that the true probability is $1/2$. While I'm simulating, I might as well do Part 4 (for an acute triangle) as well. If $c$ is the longest side, the condition for an *acute* triangle is that $a^2+b^2>c^2$. So just need a slight modification of the earlier test."
   ]
  },
  {
   "cell_type": "markdown",
   "metadata": {},
   "source": [
    "## Part 4, three sticks, acute triangle"
   ]
  },
  {
   "cell_type": "code",
   "execution_count": 84,
   "metadata": {},
   "outputs": [
    {
     "name": "stdout",
     "output_type": "stream",
     "text": [
      "acute: 0.214737\n"
     ]
    }
   ],
   "source": [
    "acute = list()\n",
    "for row in sticks:\n",
    "    row = row**2\n",
    "    acute.append(row[0] + row[1] > row[2])\n",
    "\n",
    "print(\"acute:\", sum(acute) / len(acute))"
   ]
  },
  {
   "cell_type": "markdown",
   "metadata": {},
   "source": [
    "Not so even of a value...21.47%."
   ]
  },
  {
   "cell_type": "markdown",
   "metadata": {},
   "source": [
    "## Part 3: two breaks, acute triangle"
   ]
  },
  {
   "cell_type": "markdown",
   "metadata": {},
   "source": [
    "Going to stick with simulation. Similar to before, I'll use random $x$ and $y$ to calculate side lengths $a$, $b$, and $c$, where $c$ is the longest."
   ]
  },
  {
   "cell_type": "code",
   "execution_count": 85,
   "metadata": {},
   "outputs": [
    {
     "name": "stdout",
     "output_type": "stream",
     "text": [
      "triangle: 0.2500134\n",
      "acute: 0.0794213\n"
     ]
    }
   ],
   "source": [
    "np.random.seed(123)\n",
    "n = 1000000\n",
    "\n",
    "breaks = np.random.rand(n,2)\n",
    "\n",
    "for i in range(n):\n",
    "    breaks[i] = np.sort(breaks[i])\n",
    "\n",
    "sticks = np.column_stack((breaks[:,0],\n",
    "                          breaks[:,1] - breaks[:,0],\n",
    "                          1 - breaks[:,1]))\n",
    "\n",
    "for i in range(n):\n",
    "    sticks[i] = np.sort(sticks[i])\n",
    "\n",
    "triangle = list()\n",
    "for row in sticks:\n",
    "    triangle.append(row[0] + row[1] > row[2])\n",
    "\n",
    "print(\"triangle:\", sum(triangle) / len(triangle))\n",
    "\n",
    "acute = list()\n",
    "for row in sticks:\n",
    "    row = row**2\n",
    "    acute.append(row[0] + row[1] > row[2])\n",
    "\n",
    "print(\"acute:\", sum(acute) / len(acute))"
   ]
  },
  {
   "cell_type": "markdown",
   "metadata": {},
   "source": [
    "I also checked my math on Part 1: looks like $1/4$ is correct for any triangle. For an acute triangle, it is 7.94% and I suspect this might be $1/4\\pi$."
   ]
  }
 ],
 "metadata": {
  "kernelspec": {
   "display_name": "Python 3",
   "language": "python",
   "name": "python3"
  },
  "language_info": {
   "codemirror_mode": {
    "name": "ipython",
    "version": 3
   },
   "file_extension": ".py",
   "mimetype": "text/x-python",
   "name": "python",
   "nbconvert_exporter": "python",
   "pygments_lexer": "ipython3",
   "version": "3.6.1"
  }
 },
 "nbformat": 4,
 "nbformat_minor": 2
}
